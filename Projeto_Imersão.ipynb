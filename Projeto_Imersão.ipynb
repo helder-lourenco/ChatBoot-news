{
  "cells": [
    {
      "cell_type": "markdown",
      "metadata": {
        "id": "view-in-github",
        "colab_type": "text"
      },
      "source": [
        "<a href=\"https://colab.research.google.com/github/helder-lourenco/IA-News/blob/main/Projeto_Imers%C3%A3o.ipynb\" target=\"_parent\"><img src=\"https://colab.research.google.com/assets/colab-badge.svg\" alt=\"Open In Colab\"/></a>"
      ]
    },
    {
      "cell_type": "markdown",
      "source": [],
      "metadata": {
        "id": "fIcm_4SR4S01"
      }
    },
    {
      "cell_type": "markdown",
      "source": [
        "# Gerador de Agenda de Discussão de IA para Empresas"
      ],
      "metadata": {
        "id": "9Y0Gxx5_95mL"
      }
    },
    {
      "cell_type": "code",
      "source": [
        "!pip install -q -U google-generativeai ipywidgets openpyxl requests\n",
        "!pip install pandas==2.2.2 # Install pandas specifically after other packages"
      ],
      "metadata": {
        "colab": {
          "base_uri": "https://localhost:8080/"
        },
        "id": "Agjx82TmoWGD",
        "outputId": "1a8e4d7f-9f0b-47df-ee6b-f1a599ba2856"
      },
      "execution_count": 8,
      "outputs": [
        {
          "output_type": "stream",
          "name": "stdout",
          "text": [
            "Requirement already satisfied: pandas==2.2.2 in /usr/local/lib/python3.11/dist-packages (2.2.2)\n",
            "Requirement already satisfied: numpy>=1.23.2 in /usr/local/lib/python3.11/dist-packages (from pandas==2.2.2) (2.0.2)\n",
            "Requirement already satisfied: python-dateutil>=2.8.2 in /usr/local/lib/python3.11/dist-packages (from pandas==2.2.2) (2.9.0.post0)\n",
            "Requirement already satisfied: pytz>=2020.1 in /usr/local/lib/python3.11/dist-packages (from pandas==2.2.2) (2025.2)\n",
            "Requirement already satisfied: tzdata>=2022.7 in /usr/local/lib/python3.11/dist-packages (from pandas==2.2.2) (2025.2)\n",
            "Requirement already satisfied: six>=1.5 in /usr/local/lib/python3.11/dist-packages (from python-dateutil>=2.8.2->pandas==2.2.2) (1.17.0)\n"
          ]
        }
      ]
    },
    {
      "cell_type": "code",
      "source": [
        "# Importar bibliotecas\n",
        "import ipywidgets as widgets\n",
        "from IPython.display import display, HTML, Markdown\n",
        "import pandas as pd\n",
        "import smtplib\n",
        "from email.mime.text import MIMEText\n",
        "from email.mime.multipart import MIMEMultipart\n",
        "import requests\n",
        "import json\n",
        "import os\n",
        "from datetime import datetime, timedelta\n"
      ],
      "metadata": {
        "id": "NgjxpKZsoazG"
      },
      "execution_count": 9,
      "outputs": []
    },
    {
      "cell_type": "code",
      "source": [
        "import google.generativeai as genai"
      ],
      "metadata": {
        "id": "QaXwwXqfo8Q0"
      },
      "execution_count": 21,
      "outputs": []
    },
    {
      "cell_type": "code",
      "source": [
        "# Configura o cliente da SDK do Gemini\n",
        "\n",
        "from google import genai\n",
        "\n",
        "client = genai.Client()\n",
        "\n",
        "MODEL_ID = \"gemini-2.0-flash\""
      ],
      "metadata": {
        "id": "98lLBWTNpb6X"
      },
      "execution_count": 24,
      "outputs": []
    },
    {
      "cell_type": "code",
      "source": [
        "# Configura a API Key do Google Gemini\n",
        "# Importar o SDK do Google Gemini\n",
        "import google.generativeai as genai\n",
        "import os\n",
        "from google.colab import userdata\n",
        "\n",
        "# --- Configuração da API do Gemini ---\n",
        "os.environ[\"GOOGLE_API_KEY\"] = userdata.get('GOOGLE_API_KEY')\n",
        "\n",
        "# Verifique se a API Key está configurada\n",
        "try:\n",
        "    genai.configure(api_key=os.environ.get(\"GOOGLE_API_KEY\"))\n",
        "    model = genai.GenerativeModel('gemini-pro')\n",
        "    print(\"API do Gemini configurada com sucesso!\")\n",
        "except Exception as e:\n",
        "    print(f\"Erro ao configurar a API do Gemini. Certifique-se de que GOOGLE_API_KEY está nas variáveis de ambiente do Colab. Erro: {e}\")\n",
        "    model = None # Define como None se a API não puder ser configurada\n",
        "\n",
        "\n",
        "\n",
        "os.environ[\"GOOGLE_API_KEY\"] = userdata.get('GOOGLE_API_KEY')"
      ],
      "metadata": {
        "colab": {
          "base_uri": "https://localhost:8080/"
        },
        "id": "q6GTOjJ3pDOS",
        "outputId": "2d7aa75e-e142-4166-bf82-d2b6e0fdf9d6"
      },
      "execution_count": 25,
      "outputs": [
        {
          "output_type": "stream",
          "name": "stdout",
          "text": [
            "API do Gemini configurada com sucesso!\n"
          ]
        }
      ]
    },
    {
      "cell_type": "code",
      "source": [
        "# --- Variáveis Globais (para persistir dados entre as células) ---\n",
        "df_projetos = None\n",
        "agenda_gerada_texto = \"\" # Para armazenar a agenda gerada globalmente\n"
      ],
      "metadata": {
        "id": "4RjaRgiKqm2J"
      },
      "execution_count": 26,
      "outputs": []
    },
    {
      "cell_type": "code",
      "source": [
        "# --- Seção 1: Dropdown de Segmentos da Empresa ---\n",
        "segmentos_disponiveis = ['Selecione o Segmento',\n",
        "    'Indústria Quimica', 'Tecnologia da Informação (TI)', 'Saúde', 'Finanças',\n",
        "    'Varejo', 'Educação', 'Agronegócio', 'Serviços', 'Outros'\n",
        "]\n",
        "\n",
        "segmento_dropdown = widgets.Dropdown(\n",
        "    options=segmentos_disponiveis,\n",
        "    value=segmentos_disponiveis[0],\n",
        "    description='Segmento da Empresa:',\n",
        "    disabled=False,\n",
        ")\n",
        "display(segmento_dropdown)\n"
      ],
      "metadata": {
        "colab": {
          "base_uri": "https://localhost:8080/",
          "height": 49,
          "referenced_widgets": [
            "e7b754035a4b45538898cd5c8831b4ae",
            "10069c18dde44a59937c7be215edff81",
            "4346a44f5a1d408488484efe3c88238f"
          ]
        },
        "id": "zX_7EKEUyBYQ",
        "outputId": "6ce50ed4-d167-4ef9-a6b6-c529f82fcb26"
      },
      "execution_count": 28,
      "outputs": [
        {
          "output_type": "display_data",
          "data": {
            "text/plain": [
              "Dropdown(description='Segmento da Empresa:', options=('Selecione o Segmento', 'Indústria Quimica', 'Tecnologia…"
            ],
            "application/vnd.jupyter.widget-view+json": {
              "version_major": 2,
              "version_minor": 0,
              "model_id": "e7b754035a4b45538898cd5c8831b4ae"
            }
          },
          "metadata": {}
        }
      ]
    },
    {
      "cell_type": "code",
      "source": [
        "# --- Seção 2: Conectar com Planilha de Projetos ---\n",
        "# Botões para conectar ou ignorar a planilha\n",
        "conectar_planilha_button = widgets.Button(description=\"Conectar com Planilha de Projetos\")\n",
        "ignorar_planilha_button = widgets.Button(description=\"IGNORAR\")\n",
        "\n",
        "output_planilha = widgets.Output() # Para exibir mensagens ou o uploader\n",
        "\n",
        "def on_conectar_planilha_clicked(b):\n",
        "    with output_planilha:\n",
        "        output_planilha.clear_output()\n",
        "        print(\"Por favor, faça o upload da sua planilha (CSV ou XLSX).\")\n",
        "        from google.colab import files\n",
        "        uploaded = files.upload() # Permite o upload de arquivos no Colab\n",
        "\n",
        "        for fn in uploaded.keys():\n",
        "            try:\n",
        "                global df_projetos\n",
        "                if fn.endswith('.csv'):\n",
        "                    df_projetos = pd.read_csv(fn)\n",
        "                elif fn.endswith('.xlsx'):\n",
        "                    df_projetos = pd.read_excel(fn)\n",
        "                else:\n",
        "                    print(\"Formato de arquivo não suportado. Por favor, use .csv ou .xlsx.\")\n",
        "                    df_projetos = None\n",
        "                    return\n",
        "\n",
        "                # Validar colunas 'Projeto' e 'Status'\n",
        "                if 'Projeto' in df_projetos.columns and 'Status' in df_projetos.columns:\n",
        "                    print(f\"Planilha '{fn}' carregada com sucesso!\")\n",
        "                    print(\"Primeiras 5 linhas:\")\n",
        "                    display(df_projetos.head())\n",
        "                else:\n",
        "                    print(\"A planilha deve conter as colunas 'Projeto' e 'Status'.\")\n",
        "                    df_projetos = None\n",
        "\n",
        "            except Exception as e:\n",
        "                print(f\"Erro ao carregar o arquivo: {e}\")\n",
        "                df_projetos = None\n",
        "\n",
        "def on_ignorar_planilha_clicked(b):\n",
        "    with output_planilha:\n",
        "        output_planilha.clear_output()\n",
        "        print(\"Planilha de projetos ignorada. A agenda será baseada apenas no segmento.\")\n",
        "        global df_projetos\n",
        "        df_projetos = None\n",
        "\n",
        "conectar_planilha_button.on_click(on_conectar_planilha_clicked)\n",
        "ignorar_planilha_button.on_click(on_ignorar_planilha_clicked)\n",
        "\n",
        "display(widgets.HBox([conectar_planilha_button, ignorar_planilha_button]), output_planilha)\n"
      ],
      "metadata": {
        "colab": {
          "base_uri": "https://localhost:8080/",
          "height": 67,
          "referenced_widgets": [
            "76681b9431f54c16b40d7ab9e411b7ba",
            "3c95723e5241425995a28af298174b2d",
            "2799b1a0b1bb438fb38c625435eb85ee",
            "b1930cdf98054c8a9c803fa1608e0acc",
            "87e8f81924234e7d95caa36267bee674",
            "f3997dc80bfb42eb962c1a4d1f99f797",
            "9b203f28dc9d4534b7c055338b7826fa",
            "d9692e28ee2f4afeb7dba7ef2294a581",
            "83df39876789498697237faa399e1f07",
            "cc9e34c4db89447e9e0337de24f5c115"
          ]
        },
        "id": "fz3b9SOVyYPV",
        "outputId": "fd8c3e52-2758-422c-ea25-228f2b963794"
      },
      "execution_count": 29,
      "outputs": [
        {
          "output_type": "display_data",
          "data": {
            "text/plain": [
              "HBox(children=(Button(description='Conectar com Planilha de Projetos', style=ButtonStyle()), Button(descriptio…"
            ],
            "application/vnd.jupyter.widget-view+json": {
              "version_major": 2,
              "version_minor": 0,
              "model_id": "76681b9431f54c16b40d7ab9e411b7ba"
            }
          },
          "metadata": {}
        },
        {
          "output_type": "display_data",
          "data": {
            "text/plain": [
              "Output()"
            ],
            "application/vnd.jupyter.widget-view+json": {
              "version_major": 2,
              "version_minor": 0,
              "model_id": "83df39876789498697237faa399e1f07"
            }
          },
          "metadata": {}
        }
      ]
    },
    {
      "cell_type": "code",
      "source": [
        "# --- Função Auxiliar para Busca no Google (usando Google Search) ---\n",
        "# Esta função simula uma busca no Google e retorna os snippets\n",
        "# Em um ambiente de produção real, você usaria uma API de busca do Google mais robusta\n",
        "# ou faria web scraping ético e controlado.\n",
        "\n",
        "def perform_Google Search(query, num_results=5):\n",
        "    try:\n",
        "        # A ferramenta Google Search está disponível apenas em ambientes específicos (como no Gemini).\n",
        "        # Para um Colab, você precisaria de uma API como Google Custom Search API ou fazer web scraping.\n",
        "        # Por simplicidade e para simular a intenção, vamos usar um placeholder.\n",
        "        # Substitua esta parte por uma chamada real à API de busca se tiver uma.\n",
        "        # Ex: search_results = requests.get(f\"https://www.googleapis.com/customsearch/v1?key=YOUR_CSE_API_KEY&cx=YOUR_CSE_ID&q={query}\").json()\n",
        "\n",
        "        # Placeholder para simular resultados de busca\n",
        "        print(f\"Simulando busca no Google para: '{query}'...\")\n",
        "        results = []\n",
        "        if \"inovação IA\" in query.lower():\n",
        "            results = [\n",
        "                {\"title\": \"IA Generativa em Saúde Revoluciona Diagnósticos\", \"link\": \"https://blog.ia-saude.com/generativa\", \"snippet\": \"Novas abordagens de IA criam tratamentos personalizados e detectam doenças em estágios iniciais.\"},\n",
        "                {\"title\": \"Robótica e IA Transformam Manufatura Inteligente\", \"link\": \"https://techmanufatura.com/robotica-ia\", \"snippet\": \"Sistemas autônomos com IA otimizam linhas de produção e controle de qualidade.\"},\n",
        "                {\"title\": \"IA na Previsão do Clima Extremo\", \"link\": \"https://climafuture.org/ia-previsao\", \"snippet\": \"Modelos de IA aprimoram a precisão na previsão de eventos climáticos severos.\"}\n",
        "            ]\n",
        "        elif \"ferramentas IA\" in query.lower():\n",
        "            results = [\n",
        "                {\"title\": \"TensorFlow 3.0 Lançado com Novas Otimizações\", \"link\": \"https://www.tensorflow.org/blog/tf3\", \"snippet\": \"A última versão do TensorFlow traz melhorias de desempenho para GPUs e TPUs.\"},\n",
        "                {\"title\": \"PyTorch v2.5: Novidades para Desenvolvimento de LLMs\", \"link\": \"https://pytorch.org/blog/v2.5\", \"snippet\": \"PyTorch continua a inovar com ferramentas dedicadas para modelos de linguagem grandes.\"},\n",
        "                {\"title\": \"OpenAI Lança API para Criação de Agentes Autônomos\", \"link\": \"https://openai.com/agents-api\", \"snippet\": \"Nova API permite construir agentes de IA que interagem com o ambiente digital.\"}\n",
        "            ]\n",
        "        elif \"notícias IA\" in query.lower():\n",
        "            results = [\n",
        "                {\"title\": \"Google Anuncia Nova Arquitetura de IA para Data Centers\", \"link\": \"https://news.google.com/google-ai-datacenter\", \"snippet\": \"Inovação visa reduzir o consumo de energia e aumentar a eficiência computacional.\"},\n",
        "                {\"title\": \"Debate Ético sobre IA em Armas Autônomas Ganha Força na ONU\", \"link\": \"https://un-ai-ethics.org/weapons\", \"snippet\": \"Líderes mundiais discutem a regulamentação do uso de IA em sistemas de defesa.\"},\n",
        "                {\"title\": \"Microsoft Adquire Startup de IA Conversacional por Bilhões\", \"link\": \"https://techcrunch.com/microsoft-ai-acquisition\", \"snippet\": \"Movimento estratégico da Microsoft para fortalecer sua posição no mercado de IA.\"}\n",
        "            ]\n",
        "        return results[:num_results] # Retorna o número de resultados solicitado\n",
        "    except Exception as e:\n",
        "        print(f\"Erro na busca Google simulada: {e}\")\n",
        "        return []\n"
      ],
      "metadata": {
        "id": "w7ufKmsAy3Fq"
      },
      "execution_count": null,
      "outputs": []
    }
  ],
  "metadata": {
    "colab": {
      "provenance": [],
      "include_colab_link": true
    },
    "kernelspec": {
      "display_name": "Python 3",
      "name": "python3"
    },
    "language_info": {
      "name": "python"
    },
    "widgets": {
      "application/vnd.jupyter.widget-state+json": {
        "e7b754035a4b45538898cd5c8831b4ae": {
          "model_module": "@jupyter-widgets/controls",
          "model_name": "DropdownModel",
          "model_module_version": "2.0.0",
          "state": {
            "_dom_classes": [],
            "_model_module": "@jupyter-widgets/controls",
            "_model_module_version": "2.0.0",
            "_model_name": "DropdownModel",
            "_options_labels": [
              "Selecione o Segmento",
              "Indústria Quimica",
              "Tecnologia da Informação (TI)",
              "Saúde",
              "Finanças",
              "Varejo",
              "Educação",
              "Agronegócio",
              "Serviços",
              "Outros"
            ],
            "_view_count": null,
            "_view_module": "@jupyter-widgets/controls",
            "_view_module_version": "2.0.0",
            "_view_name": "DropdownView",
            "description": "Segmento da Empresa:",
            "description_allow_html": false,
            "disabled": false,
            "index": 0,
            "layout": "IPY_MODEL_10069c18dde44a59937c7be215edff81",
            "style": "IPY_MODEL_4346a44f5a1d408488484efe3c88238f",
            "tabbable": null,
            "tooltip": null
          }
        },
        "10069c18dde44a59937c7be215edff81": {
          "model_module": "@jupyter-widgets/base",
          "model_name": "LayoutModel",
          "model_module_version": "2.0.0",
          "state": {
            "_model_module": "@jupyter-widgets/base",
            "_model_module_version": "2.0.0",
            "_model_name": "LayoutModel",
            "_view_count": null,
            "_view_module": "@jupyter-widgets/base",
            "_view_module_version": "2.0.0",
            "_view_name": "LayoutView",
            "align_content": null,
            "align_items": null,
            "align_self": null,
            "border_bottom": null,
            "border_left": null,
            "border_right": null,
            "border_top": null,
            "bottom": null,
            "display": null,
            "flex": null,
            "flex_flow": null,
            "grid_area": null,
            "grid_auto_columns": null,
            "grid_auto_flow": null,
            "grid_auto_rows": null,
            "grid_column": null,
            "grid_gap": null,
            "grid_row": null,
            "grid_template_areas": null,
            "grid_template_columns": null,
            "grid_template_rows": null,
            "height": null,
            "justify_content": null,
            "justify_items": null,
            "left": null,
            "margin": null,
            "max_height": null,
            "max_width": null,
            "min_height": null,
            "min_width": null,
            "object_fit": null,
            "object_position": null,
            "order": null,
            "overflow": null,
            "padding": null,
            "right": null,
            "top": null,
            "visibility": null,
            "width": null
          }
        },
        "4346a44f5a1d408488484efe3c88238f": {
          "model_module": "@jupyter-widgets/controls",
          "model_name": "DescriptionStyleModel",
          "model_module_version": "2.0.0",
          "state": {
            "_model_module": "@jupyter-widgets/controls",
            "_model_module_version": "2.0.0",
            "_model_name": "DescriptionStyleModel",
            "_view_count": null,
            "_view_module": "@jupyter-widgets/base",
            "_view_module_version": "2.0.0",
            "_view_name": "StyleView",
            "description_width": ""
          }
        },
        "76681b9431f54c16b40d7ab9e411b7ba": {
          "model_module": "@jupyter-widgets/controls",
          "model_name": "HBoxModel",
          "model_module_version": "2.0.0",
          "state": {
            "_dom_classes": [],
            "_model_module": "@jupyter-widgets/controls",
            "_model_module_version": "2.0.0",
            "_model_name": "HBoxModel",
            "_view_count": null,
            "_view_module": "@jupyter-widgets/controls",
            "_view_module_version": "2.0.0",
            "_view_name": "HBoxView",
            "box_style": "",
            "children": [
              "IPY_MODEL_3c95723e5241425995a28af298174b2d",
              "IPY_MODEL_2799b1a0b1bb438fb38c625435eb85ee"
            ],
            "layout": "IPY_MODEL_b1930cdf98054c8a9c803fa1608e0acc",
            "tabbable": null,
            "tooltip": null
          }
        },
        "3c95723e5241425995a28af298174b2d": {
          "model_module": "@jupyter-widgets/controls",
          "model_name": "ButtonModel",
          "model_module_version": "2.0.0",
          "state": {
            "_dom_classes": [],
            "_model_module": "@jupyter-widgets/controls",
            "_model_module_version": "2.0.0",
            "_model_name": "ButtonModel",
            "_view_count": null,
            "_view_module": "@jupyter-widgets/controls",
            "_view_module_version": "2.0.0",
            "_view_name": "ButtonView",
            "button_style": "",
            "description": "Conectar com Planilha de Projetos",
            "disabled": false,
            "icon": "",
            "layout": "IPY_MODEL_87e8f81924234e7d95caa36267bee674",
            "style": "IPY_MODEL_f3997dc80bfb42eb962c1a4d1f99f797",
            "tabbable": null,
            "tooltip": null
          }
        },
        "2799b1a0b1bb438fb38c625435eb85ee": {
          "model_module": "@jupyter-widgets/controls",
          "model_name": "ButtonModel",
          "model_module_version": "2.0.0",
          "state": {
            "_dom_classes": [],
            "_model_module": "@jupyter-widgets/controls",
            "_model_module_version": "2.0.0",
            "_model_name": "ButtonModel",
            "_view_count": null,
            "_view_module": "@jupyter-widgets/controls",
            "_view_module_version": "2.0.0",
            "_view_name": "ButtonView",
            "button_style": "",
            "description": "IGNORAR",
            "disabled": false,
            "icon": "",
            "layout": "IPY_MODEL_9b203f28dc9d4534b7c055338b7826fa",
            "style": "IPY_MODEL_d9692e28ee2f4afeb7dba7ef2294a581",
            "tabbable": null,
            "tooltip": null
          }
        },
        "b1930cdf98054c8a9c803fa1608e0acc": {
          "model_module": "@jupyter-widgets/base",
          "model_name": "LayoutModel",
          "model_module_version": "2.0.0",
          "state": {
            "_model_module": "@jupyter-widgets/base",
            "_model_module_version": "2.0.0",
            "_model_name": "LayoutModel",
            "_view_count": null,
            "_view_module": "@jupyter-widgets/base",
            "_view_module_version": "2.0.0",
            "_view_name": "LayoutView",
            "align_content": null,
            "align_items": null,
            "align_self": null,
            "border_bottom": null,
            "border_left": null,
            "border_right": null,
            "border_top": null,
            "bottom": null,
            "display": null,
            "flex": null,
            "flex_flow": null,
            "grid_area": null,
            "grid_auto_columns": null,
            "grid_auto_flow": null,
            "grid_auto_rows": null,
            "grid_column": null,
            "grid_gap": null,
            "grid_row": null,
            "grid_template_areas": null,
            "grid_template_columns": null,
            "grid_template_rows": null,
            "height": null,
            "justify_content": null,
            "justify_items": null,
            "left": null,
            "margin": null,
            "max_height": null,
            "max_width": null,
            "min_height": null,
            "min_width": null,
            "object_fit": null,
            "object_position": null,
            "order": null,
            "overflow": null,
            "padding": null,
            "right": null,
            "top": null,
            "visibility": null,
            "width": null
          }
        },
        "87e8f81924234e7d95caa36267bee674": {
          "model_module": "@jupyter-widgets/base",
          "model_name": "LayoutModel",
          "model_module_version": "2.0.0",
          "state": {
            "_model_module": "@jupyter-widgets/base",
            "_model_module_version": "2.0.0",
            "_model_name": "LayoutModel",
            "_view_count": null,
            "_view_module": "@jupyter-widgets/base",
            "_view_module_version": "2.0.0",
            "_view_name": "LayoutView",
            "align_content": null,
            "align_items": null,
            "align_self": null,
            "border_bottom": null,
            "border_left": null,
            "border_right": null,
            "border_top": null,
            "bottom": null,
            "display": null,
            "flex": null,
            "flex_flow": null,
            "grid_area": null,
            "grid_auto_columns": null,
            "grid_auto_flow": null,
            "grid_auto_rows": null,
            "grid_column": null,
            "grid_gap": null,
            "grid_row": null,
            "grid_template_areas": null,
            "grid_template_columns": null,
            "grid_template_rows": null,
            "height": null,
            "justify_content": null,
            "justify_items": null,
            "left": null,
            "margin": null,
            "max_height": null,
            "max_width": null,
            "min_height": null,
            "min_width": null,
            "object_fit": null,
            "object_position": null,
            "order": null,
            "overflow": null,
            "padding": null,
            "right": null,
            "top": null,
            "visibility": null,
            "width": null
          }
        },
        "f3997dc80bfb42eb962c1a4d1f99f797": {
          "model_module": "@jupyter-widgets/controls",
          "model_name": "ButtonStyleModel",
          "model_module_version": "2.0.0",
          "state": {
            "_model_module": "@jupyter-widgets/controls",
            "_model_module_version": "2.0.0",
            "_model_name": "ButtonStyleModel",
            "_view_count": null,
            "_view_module": "@jupyter-widgets/base",
            "_view_module_version": "2.0.0",
            "_view_name": "StyleView",
            "button_color": null,
            "font_family": null,
            "font_size": null,
            "font_style": null,
            "font_variant": null,
            "font_weight": null,
            "text_color": null,
            "text_decoration": null
          }
        },
        "9b203f28dc9d4534b7c055338b7826fa": {
          "model_module": "@jupyter-widgets/base",
          "model_name": "LayoutModel",
          "model_module_version": "2.0.0",
          "state": {
            "_model_module": "@jupyter-widgets/base",
            "_model_module_version": "2.0.0",
            "_model_name": "LayoutModel",
            "_view_count": null,
            "_view_module": "@jupyter-widgets/base",
            "_view_module_version": "2.0.0",
            "_view_name": "LayoutView",
            "align_content": null,
            "align_items": null,
            "align_self": null,
            "border_bottom": null,
            "border_left": null,
            "border_right": null,
            "border_top": null,
            "bottom": null,
            "display": null,
            "flex": null,
            "flex_flow": null,
            "grid_area": null,
            "grid_auto_columns": null,
            "grid_auto_flow": null,
            "grid_auto_rows": null,
            "grid_column": null,
            "grid_gap": null,
            "grid_row": null,
            "grid_template_areas": null,
            "grid_template_columns": null,
            "grid_template_rows": null,
            "height": null,
            "justify_content": null,
            "justify_items": null,
            "left": null,
            "margin": null,
            "max_height": null,
            "max_width": null,
            "min_height": null,
            "min_width": null,
            "object_fit": null,
            "object_position": null,
            "order": null,
            "overflow": null,
            "padding": null,
            "right": null,
            "top": null,
            "visibility": null,
            "width": null
          }
        },
        "d9692e28ee2f4afeb7dba7ef2294a581": {
          "model_module": "@jupyter-widgets/controls",
          "model_name": "ButtonStyleModel",
          "model_module_version": "2.0.0",
          "state": {
            "_model_module": "@jupyter-widgets/controls",
            "_model_module_version": "2.0.0",
            "_model_name": "ButtonStyleModel",
            "_view_count": null,
            "_view_module": "@jupyter-widgets/base",
            "_view_module_version": "2.0.0",
            "_view_name": "StyleView",
            "button_color": null,
            "font_family": null,
            "font_size": null,
            "font_style": null,
            "font_variant": null,
            "font_weight": null,
            "text_color": null,
            "text_decoration": null
          }
        },
        "83df39876789498697237faa399e1f07": {
          "model_module": "@jupyter-widgets/output",
          "model_name": "OutputModel",
          "model_module_version": "1.0.0",
          "state": {
            "_dom_classes": [],
            "_model_module": "@jupyter-widgets/output",
            "_model_module_version": "1.0.0",
            "_model_name": "OutputModel",
            "_view_count": null,
            "_view_module": "@jupyter-widgets/output",
            "_view_module_version": "1.0.0",
            "_view_name": "OutputView",
            "layout": "IPY_MODEL_cc9e34c4db89447e9e0337de24f5c115",
            "msg_id": "",
            "outputs": [
              {
                "output_type": "stream",
                "name": "stdout",
                "text": [
                  "Planilha de projetos ignorada. A agenda será baseada apenas no segmento.\n"
                ]
              }
            ],
            "tabbable": null,
            "tooltip": null
          }
        },
        "cc9e34c4db89447e9e0337de24f5c115": {
          "model_module": "@jupyter-widgets/base",
          "model_name": "LayoutModel",
          "model_module_version": "2.0.0",
          "state": {
            "_model_module": "@jupyter-widgets/base",
            "_model_module_version": "2.0.0",
            "_model_name": "LayoutModel",
            "_view_count": null,
            "_view_module": "@jupyter-widgets/base",
            "_view_module_version": "2.0.0",
            "_view_name": "LayoutView",
            "align_content": null,
            "align_items": null,
            "align_self": null,
            "border_bottom": null,
            "border_left": null,
            "border_right": null,
            "border_top": null,
            "bottom": null,
            "display": null,
            "flex": null,
            "flex_flow": null,
            "grid_area": null,
            "grid_auto_columns": null,
            "grid_auto_flow": null,
            "grid_auto_rows": null,
            "grid_column": null,
            "grid_gap": null,
            "grid_row": null,
            "grid_template_areas": null,
            "grid_template_columns": null,
            "grid_template_rows": null,
            "height": null,
            "justify_content": null,
            "justify_items": null,
            "left": null,
            "margin": null,
            "max_height": null,
            "max_width": null,
            "min_height": null,
            "min_width": null,
            "object_fit": null,
            "object_position": null,
            "order": null,
            "overflow": null,
            "padding": null,
            "right": null,
            "top": null,
            "visibility": null,
            "width": null
          }
        }
      }
    }
  },
  "nbformat": 4,
  "nbformat_minor": 0
}